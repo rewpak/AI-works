{
  "nbformat": 4,
  "nbformat_minor": 0,
  "metadata": {
    "colab": {
      "provenance": [],
      "include_colab_link": true
    },
    "kernelspec": {
      "name": "python3",
      "display_name": "Python 3"
    }
  },
  "cells": [
    {
      "cell_type": "markdown",
      "metadata": {
        "id": "view-in-github",
        "colab_type": "text"
      },
      "source": [
        "<a href=\"https://colab.research.google.com/github/rewpak/AI-works/blob/main/Probabilistic_Inference_Diabetes_Na%C3%AFve_Bayes.ipynb\" target=\"_parent\"><img src=\"https://colab.research.google.com/assets/colab-badge.svg\" alt=\"Open In Colab\"/></a>"
      ]
    },
    {
      "cell_type": "markdown",
      "metadata": {
        "id": "42z1SQqKFdtg"
      },
      "source": [
        "# Lab 4. Probabilistic Inference\n",
        "# Task 4.2 Diabetes Diagnosis Using Naïve Bayes\n",
        "## Problem Descriptions\n",
        "Given various observations from patients, including personal details (age, gender, height, weight, etc.), body test data (blood sugar, heart rate, lipoproteins, etc.), and symptoms (fever, headache, etc.), the goal is to predict the progression level of diabetes or determine if the patient is suffering from a certain stage of the disease.\n",
        "\n",
        "If we apply the Naïve Bayes method, we can frame the problem like this:\n",
        "\n",
        "\n",
        "*   𝑃(𝑐𝑖) - prior probability of diabetes\n",
        "*   𝑃(𝑐𝑖| 𝑓1,𝑓2, ... 𝑓9,𝑓10) - posterior probability (where *𝑖*  = (0-150), (150-300) (300+))\n",
        "*   𝑃(𝑓1 |𝑐𝑖), 𝑃(𝑓2 |𝑐𝑖),.... 𝑃(𝑓9 |𝑐𝑖), 𝑃(𝑓10 |𝑐𝑖) conditional probability (the probability of having a disease given certain symptoms)\n",
        "\n",
        "\n",
        "\n",
        "\n",
        "## Implementation and Results"
      ]
    },
    {
      "cell_type": "code",
      "metadata": {
        "id": "y6A3ZHOwFOPk",
        "colab": {
          "base_uri": "https://localhost:8080/"
        },
        "outputId": "89120487-90d4-4f47-8194-25a0d633925e"
      },
      "source": [
        "!pip install sklearn\n",
        "import numpy as np\n",
        "from sklearn import datasets\n",
        "from sklearn.naive_bayes import GaussianNB\n",
        "from sklearn.metrics import accuracy_score, classification_report, confusion_matrix\n",
        "from sklearn.model_selection import train_test_split, cross_validate\n",
        "\n",
        "# import numpy as np\n",
        "import matplotlib.pyplot as plt\n",
        "# from matplotlib import patches\n",
        "import math"
      ],
      "execution_count": null,
      "outputs": [
        {
          "output_type": "stream",
          "name": "stdout",
          "text": [
            "Requirement already satisfied: sklearn in /usr/local/lib/python3.10/dist-packages (0.0.post10)\n"
          ]
        }
      ]
    },
    {
      "cell_type": "code",
      "metadata": {
        "id": "qmR8h6iHGXQJ",
        "colab": {
          "base_uri": "https://localhost:8080/"
        },
        "outputId": "42fc7299-3bcf-4fd2-a21f-8ad4690cb30e"
      },
      "source": [
        "diabetes = datasets.load_diabetes()\n",
        "# X = diabetes.data[:,[2,3,9]]\n",
        "X = diabetes.data\n",
        "Y = [math.floor(x/150) for x in diabetes.target]\n",
        "\n",
        "X_train, X_test, Y_train, Y_test = train_test_split(X, Y, test_size=0.25)\n",
        "\n",
        "nb = GaussianNB()\n",
        "nb.fit(X_train, Y_train)\n",
        "Y_pred = nb.predict(X_test)\n",
        "acc = accuracy_score(Y_test, Y_pred)\n",
        "cm = confusion_matrix(Y_test, Y_pred)\n",
        "cr = classification_report(Y_test, Y_pred)\n",
        "\n",
        "print(\"Accuracy:\", acc)\n",
        "print(\"Confusion Matrix:\\n\", cm)\n",
        "print(\"Prior:\\n\", nb.class_prior_)\n",
        "print(\"Mean:\\n\", nb.theta_)\n",
        "variances = np.var(X_train, axis=0)\n",
        "print(\"Variances:\\n\", variances)\n"
      ],
      "execution_count": null,
      "outputs": [
        {
          "output_type": "stream",
          "name": "stdout",
          "text": [
            "Accuracy: 0.7027027027027027\n",
            "Confusion Matrix:\n",
            " [[49 16  0]\n",
            " [12 29  2]\n",
            " [ 0  3  0]]\n",
            "Prior:\n",
            " [0.52265861 0.44410876 0.03323263]\n",
            "Mean:\n",
            " [[-0.00853817  0.00109077 -0.01899641 -0.01706049 -0.00727161 -0.00385798\n",
            "   0.01140874 -0.01366047 -0.02110572 -0.01319276]\n",
            " [ 0.00958396  0.00269502  0.01864971  0.02226281  0.0075479   0.00415663\n",
            "  -0.0139227   0.01354131  0.02467209  0.01343377]\n",
            " [ 0.0004296  -0.00131357  0.08403631  0.01655162  0.00205855  0.00392424\n",
            "  -0.03804574  0.03967629  0.0382141   0.04862759]]\n",
            "Variances:\n",
            " [0.00241233 0.00226988 0.00225533 0.00228095 0.00220101 0.00226726\n",
            " 0.00214976 0.00216642 0.00214254 0.0022625 ]\n"
          ]
        }
      ]
    },
    {
      "cell_type": "markdown",
      "metadata": {
        "id": "q8XVMr4NFy8v"
      },
      "source": [
        "## Discussions\n",
        "\n",
        "In this lab, we employed a Naïve Bayes classification approach to predict the progression levels of diabetes based on various patient observations. These observations included personal details such as age, gender, height, weight, as well as body test data like blood sugar, heart rate, and lipoproteins, along with reported symptoms like fever and headache.\n",
        "\n",
        "The model's accuracy was 70.27%, indicating decent predictive ability. It correctly predicted 49 out of 65 cases in the \"0-150\" category. However, it had some difficulty distinguishing between \"0-150\" and \"150-300\", misclassifying 16 cases.\n",
        "\n",
        "In the dataset, \"0-150\" was the most common category (about 52%), followed by \"150-300\" (around 44%) while \"300+\" was rare (about 3%)."
      ]
    }
  ]
}