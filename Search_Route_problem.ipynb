{
  "nbformat": 4,
  "nbformat_minor": 0,
  "metadata": {
    "colab": {
      "provenance": [],
      "include_colab_link": true
    },
    "kernelspec": {
      "name": "python3",
      "display_name": "Python 3"
    }
  },
  "cells": [
    {
      "cell_type": "markdown",
      "metadata": {
        "id": "view-in-github",
        "colab_type": "text"
      },
      "source": [
        "<a href=\"https://colab.research.google.com/github/rewpak/AI-works/blob/main/Search_Route_problem.ipynb\" target=\"_parent\"><img src=\"https://colab.research.google.com/assets/colab-badge.svg\" alt=\"Open In Colab\"/></a>"
      ]
    },
    {
      "cell_type": "markdown",
      "metadata": {
        "id": "42z1SQqKFdtg"
      },
      "source": [
        "# Lab 2. Search\n",
        "# Task 2.1 Route Planning\n",
        "## Problem Descriptions\n",
        "We are given the plan where we need to implement a program that finds the best route from one city to another. In this case, we are focusing on finding the optimal path from city 1 to city 5. However, in order to solve the problem, we need to figure out the requred variables.\n",
        "\n",
        "![picture](https://drive.google.com/uc?export=view&id=1A9OboJGL6FyVhz-9fSvzO2ZfkM-uwJ2i)\n",
        "\n",
        "1. State: there are numbered cities from 1 to 6.\n",
        "\n",
        "2. Action: we need use a new state for simlplify the implementation. For example: if we are at the state 1 and next state is 3. The action will be travelling from 1 to 3\n",
        "\n",
        "3. Goal test: we have to check if we have reached a final destination. Another word we need to check if the current state is destination state, in our case the final destination is 5\n",
        "\n",
        "4. Path cost: The cost of route is illustrated on the graph. We transform it into 6x6 array whose elements are the distance between a pair of the cities. (0 for self and \"inf\" for unconnected).\n",
        "## Implementation and Results"
      ]
    },
    {
      "cell_type": "code",
      "metadata": {
        "id": "qinJknR5WEzC",
        "colab": {
          "base_uri": "https://localhost:8080/"
        },
        "outputId": "8d4df443-f6d4-4c35-cfb2-b023c0681cf8"
      },
      "source": [
        "!pip install simpleai\n",
        "from simpleai.search import SearchProblem, astar, greedy, breadth_first, depth_first, uniform_cost\n",
        "import math"
      ],
      "execution_count": null,
      "outputs": [
        {
          "output_type": "stream",
          "name": "stdout",
          "text": [
            "Collecting simpleai\n",
            "  Downloading simpleai-0.8.3.tar.gz (94 kB)\n",
            "\u001b[?25l     \u001b[90m━━━━━━━━━━━━━━━━━━━━━━━━━━━━━━━━━━━━━━━━\u001b[0m \u001b[32m0.0/94.4 kB\u001b[0m \u001b[31m?\u001b[0m eta \u001b[36m-:--:--\u001b[0m\r\u001b[2K     \u001b[90m━━━━━━━━━━━━━━━━━━━━━━━━━━━━━━━━━━━━━━━━\u001b[0m \u001b[32m94.4/94.4 kB\u001b[0m \u001b[31m2.5 MB/s\u001b[0m eta \u001b[36m0:00:00\u001b[0m\n",
            "\u001b[?25h  Preparing metadata (setup.py) ... \u001b[?25l\u001b[?25hdone\n",
            "Building wheels for collected packages: simpleai\n",
            "  Building wheel for simpleai (setup.py) ... \u001b[?25l\u001b[?25hdone\n",
            "  Created wheel for simpleai: filename=simpleai-0.8.3-py3-none-any.whl size=100983 sha256=b18a8dbc0530ea13da4be42a2d9f78c146cbe245a93223623aac594082744a33\n",
            "  Stored in directory: /root/.cache/pip/wheels/91/0c/38/421d7910e7bc59b97fc54f490808bdb1097607d83d1a592865\n",
            "Successfully built simpleai\n",
            "Installing collected packages: simpleai\n",
            "Successfully installed simpleai-0.8.3\n"
          ]
        }
      ]
    },
    {
      "cell_type": "code",
      "metadata": {
        "id": "pEDEpmGzXklh"
      },
      "source": [
        "COSTS = [\n",
        "    [0, 7, 9, 'inf', 'inf', 14],\n",
        "    [7, 0, 10, 15, 'inf', 'inf'],\n",
        "    [9, 10, 0, 11, 'inf', 2],\n",
        "    ['inf', 15, 11, 0, 6, 'inf'],\n",
        "    ['inf', 'inf', 'inf', 6, 0, 9],\n",
        "    [14, 'inf', 2, 'inf', 9, 0]\n",
        "]\n"
      ],
      "execution_count": null,
      "outputs": []
    },
    {
      "cell_type": "code",
      "metadata": {
        "id": "vZKngpxpX8Lj"
      },
      "source": [
        "class Route(SearchProblem):\n",
        "\n",
        "    # initialise with the initial and goal states. Do \"-1\" because the nodes start from 1.\n",
        "    def __init__(self, initial, goal):\n",
        "        self.initial = initial-1\n",
        "        self.goal = goal-1\n",
        "        super(Route, self).__init__(initial_state=self.initial)\n",
        "\n",
        "    # add all connected nodes, i.e. those with a cost of not 0 or inf\n",
        "    def actions(self, state):\n",
        "        actions = []\n",
        "        for action in range(len(COSTS[state])):\n",
        "            if COSTS[state][action] not in ['inf', 0]:\n",
        "                actions.append(action)\n",
        "        return actions\n",
        "\n",
        "    # the result state is just the action as defined\n",
        "    def result(self, state, action):\n",
        "        return action\n",
        "\n",
        "    # check if goal is reached\n",
        "    def is_goal(self, state):\n",
        "        return state == self.goal\n",
        "\n",
        "    # return the cost between two states\n",
        "    def cost(self, state, action, state2):\n",
        "        return COSTS[state][action]\n"
      ],
      "execution_count": null,
      "outputs": []
    },
    {
      "cell_type": "code",
      "metadata": {
        "id": "SSoissI_Y7jd",
        "colab": {
          "base_uri": "https://localhost:8080/"
        },
        "outputId": "858554f9-6ab2-4b84-87c3-2b8ab2ab826c"
      },
      "source": [
        "from binascii import unhexlify\n",
        "problem = Route(1, 5)\n",
        "breadthFirstResult = breadth_first(problem, graph_search=True)\n",
        "depthFirstResult = depth_first(problem, graph_search=True)\n",
        "uniformResult = uniform_cost(problem)\n",
        "\n",
        "# Print the results\n",
        "pathB = [x[1]+1 for x in breadthFirstResult.path()]\n",
        "print(\"The Breadth-first method gives a route of %s, and total cost of %s\" %(pathB, breadthFirstResult.cost))\n",
        "pathD = [x[1]+1 for x in depthFirstResult.path()]\n",
        "print(\"The Depth-First method gives a route %s, and total cost is %s\" %(pathD, depthFirstResult.cost))\n",
        "pathU = [x[1]+1 for x in uniformResult.path()]\n",
        "print(\"The Uniform-cost method gives a route of %s, and total cost is %s\" %(pathU, uninformResult.cost))"
      ],
      "execution_count": null,
      "outputs": [
        {
          "output_type": "stream",
          "name": "stdout",
          "text": [
            "The Breadth-first method gives a route of [1, 6, 5], and total cost of 23\n",
            "The Depth-First method gives a route [1, 6, 5], and total cost is 23\n",
            "The Uniform-cost method gives a route of [1, 3, 6, 5], and total cost is 20\n"
          ]
        }
      ]
    },
    {
      "cell_type": "markdown",
      "source": [
        "**Discussion**\n",
        "\n",
        "In this task we used 3 simple search methods which gave the following results:\n",
        "\n",
        "*   Uniform-cost Search: 20\n",
        "*   Breadth-first Search: 23\n",
        "*   Depth-first Search: 23\n",
        "\n",
        "The most optimal result was obtained using the Uniform-cost method, whereas both Breadth-first and Depth-first methods gave us 23 but is was not optimal.\n",
        "\n"
      ],
      "metadata": {
        "id": "QUszaiA_vNcN"
      }
    }
  ]
}