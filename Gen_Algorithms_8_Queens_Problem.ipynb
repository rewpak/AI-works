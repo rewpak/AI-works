{
  "nbformat": 4,
  "nbformat_minor": 0,
  "metadata": {
    "colab": {
      "provenance": [],
      "include_colab_link": true
    },
    "kernelspec": {
      "name": "python3",
      "display_name": "Python 3"
    }
  },
  "cells": [
    {
      "cell_type": "markdown",
      "metadata": {
        "id": "view-in-github",
        "colab_type": "text"
      },
      "source": [
        "<a href=\"https://colab.research.google.com/github/rewpak/AI-works/blob/main/Gen_Algorithms_8_Queens_Problem.ipynb\" target=\"_parent\"><img src=\"https://colab.research.google.com/assets/colab-badge.svg\" alt=\"Open In Colab\"/></a>"
      ]
    },
    {
      "cell_type": "markdown",
      "metadata": {
        "id": "42z1SQqKFdtg"
      },
      "source": [
        "# Lab 3. Genetic Algorithms\n",
        "# Task 3.2 The 8-Queens Problem\n",
        "## Problem Descriptions\n",
        "The challenge in the 8-queens problem is to position eight queens on an 8x8 chessboard in such a way that none of them can attack each other. This means making sure no two queens share the same row, column, or diagonal.\n",
        "\n",
        "Firstly we need to determine the encoding scheme, evaluation of fitness, and the genetic operators:\n",
        "\n",
        "1. Encoding scheme: (y0, y1, …, y7) where the numbers are a permutation of 0-7. Each y-value, from y0 to y7, is a number from 0 to 7, indicating the row where a queen is placed in the corresponding column.\n",
        "\n",
        "2. Fitness Function: Evaluates solutions in the 8-queens problem by counting how many queens are attacking each other. A higher count indicates a poorer solution. An optimal solution has a count of 0, indicating no queens are attacking each other.\n",
        "\n",
        "3. Genetic operators:\n",
        "    * Selection: picks potential solutions based on how well they're doing. Prefers solutions with fewer queen conflicts for reproduction.\n",
        "    * Crossover: choose a crossover point randomly, the sub-strings before this point are copied from one parent, and the remaining part is filled in following the order in the second parent.\n",
        "    * Mutation: Introduces small random changes to an individual's genetic material.\n",
        "## Implementation and Results"
      ]
    },
    {
      "cell_type": "code",
      "metadata": {
        "id": "DuCbX5nAMZn9",
        "colab": {
          "base_uri": "https://localhost:8080/"
        },
        "outputId": "239c781f-5dbf-46af-d775-7f5e3816fe8b"
      },
      "source": [
        "!pip install deap\n",
        "import random\n",
        "import numpy as np\n",
        "from deap import algorithms, base, creator, tools\n"
      ],
      "execution_count": null,
      "outputs": [
        {
          "output_type": "stream",
          "name": "stdout",
          "text": [
            "Collecting deap\n",
            "  Downloading deap-1.4.1-cp310-cp310-manylinux_2_5_x86_64.manylinux1_x86_64.manylinux_2_17_x86_64.manylinux2014_x86_64.whl (135 kB)\n",
            "\u001b[?25l     \u001b[90m━━━━━━━━━━━━━━━━━━━━━━━━━━━━━━━━━━━━━━━━\u001b[0m \u001b[32m0.0/135.4 kB\u001b[0m \u001b[31m?\u001b[0m eta \u001b[36m-:--:--\u001b[0m\r\u001b[2K     \u001b[91m━━━━━━━━━━━━━━━━━━━━━━━━━━━━━━━━━\u001b[0m\u001b[90m╺\u001b[0m\u001b[90m━━━━━━\u001b[0m \u001b[32m112.6/135.4 kB\u001b[0m \u001b[31m3.1 MB/s\u001b[0m eta \u001b[36m0:00:01\u001b[0m\r\u001b[2K     \u001b[90m━━━━━━━━━━━━━━━━━━━━━━━━━━━━━━━━━━━━━━━━\u001b[0m \u001b[32m135.4/135.4 kB\u001b[0m \u001b[31m2.9 MB/s\u001b[0m eta \u001b[36m0:00:00\u001b[0m\n",
            "\u001b[?25hRequirement already satisfied: numpy in /usr/local/lib/python3.10/dist-packages (from deap) (1.23.5)\n",
            "Installing collected packages: deap\n",
            "Successfully installed deap-1.4.1\n"
          ]
        }
      ]
    },
    {
      "cell_type": "code",
      "metadata": {
        "id": "IlafTL_CMv1o"
      },
      "source": [
        "NB_QUEENS = 12\n",
        "\n",
        "def evalNQueens(individual):\n",
        "\n",
        "    # create 2 list for the falling diagonal (fd) and the raising diagonal (rd)\n",
        "    fd = np.zeros(2*NB_QUEENS-1)\n",
        "    rd = np.zeros(2*NB_QUEENS-1)\n",
        "\n",
        "    # count the number of queens placed on diagonals fd/rd\n",
        "    for i in range(NB_QUEENS):\n",
        "      fd[i+individual[i]] += 1\n",
        "      rd[NB_QUEENS-1-i+individual[i]] += 1\n",
        "\n",
        "    # sum the number of queens if more than 1 queen on a diagonal\n",
        "    return np.sum(fd[fd>1]) + np.sum(rd[rd>1]),\n"
      ],
      "execution_count": null,
      "outputs": []
    },
    {
      "cell_type": "code",
      "metadata": {
        "id": "McDfK7ZmM5_E",
        "colab": {
          "base_uri": "https://localhost:8080/"
        },
        "outputId": "b63fff1d-888f-4dc4-9d95-15068968b28c"
      },
      "source": [
        "# enforce only 1 queen per column by using a list of NB_QUEENS\n",
        "creator.create(\"FitnessMin\", base.Fitness, weights=(-1.0,))\n",
        "creator.create(\"Individual\", list, fitness=creator.FitnessMin)\n",
        "\n",
        "# enforce only 1 queen per row by using permutation\n",
        "toolbox = base.Toolbox()\n",
        "toolbox.register(\"permutation\", random.sample, range(NB_QUEENS), NB_QUEENS)\n",
        "\n",
        "# register all elements of the GA\n",
        "toolbox.register(\"individual\", tools.initIterate, creator.Individual, toolbox.permutation)\n",
        "toolbox.register(\"population\", tools.initRepeat, list, toolbox.individual)\n",
        "toolbox.register(\"evaluate\", evalNQueens)\n",
        "toolbox.register(\"mate\", tools.cxPartialyMatched)\n",
        "toolbox.register(\"mutate\", tools.mutShuffleIndexes, indpb=2.0/NB_QUEENS)\n",
        "toolbox.register(\"select\", tools.selTournament, tournsize=3)"
      ],
      "execution_count": null,
      "outputs": [
        {
          "output_type": "stream",
          "name": "stderr",
          "text": [
            "/usr/local/lib/python3.10/dist-packages/deap/creator.py:185: RuntimeWarning: A class named 'FitnessMin' has already been created and it will be overwritten. Consider deleting previous creation of that class or rename it.\n",
            "  warnings.warn(\"A class named '{0}' has already been created and it \"\n",
            "/usr/local/lib/python3.10/dist-packages/deap/creator.py:185: RuntimeWarning: A class named 'Individual' has already been created and it will be overwritten. Consider deleting previous creation of that class or rename it.\n",
            "  warnings.warn(\"A class named '{0}' has already been created and it \"\n"
          ]
        }
      ]
    },
    {
      "cell_type": "code",
      "metadata": {
        "id": "_oLK0WTeM_pt",
        "colab": {
          "base_uri": "https://localhost:8080/"
        },
        "outputId": "804ec0a0-ce83-4f9a-9c87-640c364a0a96"
      },
      "source": [
        "# run the GA to get the result\n",
        "random.seed(64)\n",
        "pop = toolbox.population(n=300)\n",
        "algorithms.eaSimple(pop, toolbox, cxpb=0.5, mutpb=0.2, ngen=50, verbose=False)\n",
        "best = tools.selBest(pop, 1)[0]\n",
        "print(\"Best: %s. Fitness value: %s\" %(best, best.fitness.values[0]))"
      ],
      "execution_count": null,
      "outputs": [
        {
          "output_type": "stream",
          "name": "stdout",
          "text": [
            "Best: [4, 7, 9, 6, 2, 0, 11, 8, 10, 1, 3, 5]. Fitness value: 0.0\n"
          ]
        }
      ]
    },
    {
      "cell_type": "code",
      "metadata": {
        "id": "H4G30bn1N9yw",
        "colab": {
          "base_uri": "https://localhost:8080/",
          "height": 435
        },
        "outputId": "f52fe628-71ba-4450-d3c1-b9afe6f0eb12"
      },
      "source": [
        "# display the result\n",
        "import matplotlib.pyplot as plt\n",
        "\n",
        "chessboard = np.ones((NB_QUEENS, NB_QUEENS))\n",
        "chessboard[1::2,0::2] = 0.75\n",
        "chessboard[0::2,1::2] = 0.75\n",
        "plt.imshow(chessboard, cmap='gray', origin='lower', vmin=0, vmax=1)\n",
        "for x in range(NB_QUEENS):\n",
        "    plt.text(x, best[x], '♕', fontsize=30, ha='center', va='center')"
      ],
      "execution_count": null,
      "outputs": [
        {
          "output_type": "display_data",
          "data": {
            "text/plain": [
              "<Figure size 640x480 with 1 Axes>"
            ],
            "image/png": "[encoded data removed]"
          },
          "metadata": {}
        }
      ]
    },
    {
      "cell_type": "markdown",
      "metadata": {
        "id": "q8XVMr4NFy8v"
      },
      "source": [
        "## Discussions\n",
        "\n",
        "In this task, the Genetic Algorithm successfully solved the 8-Queens problem, finding the best arrangement as [5, 3, 1, 7, 4, 6, 0, 2] with a fitness value of 0.0. The fitness value of 0.0 indicates that all the rules were followed, showcasing the algorithm's effectiveness in dealing with the challenges of the 8-Queens problem.\n",
        "\n",
        "the Genetic Algorithm also succeeded with 12 queens. It found the best arrangement as [4, 7, 9, 6, 2, 0, 11, 8, 10, 1, 3, 5] with a fitness value of 0.0. This means it solved the 12-Queens problem perfectly, showcasing the algorithm's effectiveness in tackling such challenges."
      ]
    },
    {
      "cell_type": "code",
      "source": [],
      "metadata": {
        "id": "B4BidB1K5WPT"
      },
      "execution_count": null,
      "outputs": []
    }
  ]
}