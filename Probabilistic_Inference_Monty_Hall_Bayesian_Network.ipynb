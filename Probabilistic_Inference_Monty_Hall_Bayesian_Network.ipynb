{
  "nbformat": 4,
  "nbformat_minor": 0,
  "metadata": {
    "anaconda-cloud": {},
    "kernelspec": {
      "display_name": "Python 3",
      "language": "python",
      "name": "python3"
    },
    "language_info": {
      "codemirror_mode": {
        "name": "ipython",
        "version": 3
      },
      "file_extension": ".py",
      "mimetype": "text/x-python",
      "name": "python",
      "nbconvert_exporter": "python",
      "pygments_lexer": "ipython3",
      "version": "3.6.8"
    },
    "colab": {
      "provenance": [],
      "include_colab_link": true
    }
  },
  "cells": [
    {
      "cell_type": "markdown",
      "metadata": {
        "id": "view-in-github",
        "colab_type": "text"
      },
      "source": [
        "<a href=\"https://colab.research.google.com/github/rewpak/AI-works/blob/main/Probabilistic_Inference_Monty_Hall_Bayesian_Network.ipynb\" target=\"_parent\"><img src=\"https://colab.research.google.com/assets/colab-badge.svg\" alt=\"Open In Colab\"/></a>"
      ]
    },
    {
      "cell_type": "markdown",
      "metadata": {
        "id": "42z1SQqKFdtg"
      },
      "source": [
        "# Lab 4. Probabilistic Inference\n",
        "# Task 4.3 Monty Hall Problem Using Bayesian Network\n",
        "## Problem Descriptions\n",
        "The problem can be described as follows. Behind three closed doors, there is a car (the prize) and two goats (worthless). You pick a door, say No. 1. Then the host (Monty Hall in the show), who knows what are behind the doors, opens another door that has a goat, say No. 3. Now you have the chance to decide to stick to your original choice of No. 1 or to switch to No. 2.\n",
        "\n",
        "\n",
        "The Monty Hall problem can be represented using a Bayesian Network, which is a graphical model that depicts the probabilistic relationships between different variables\n",
        "\n",
        "Conditions that define the behavior of the host:\n",
        "\n",
        "0. The host has to open a door that wasn't chosen by the contestant.\n",
        "1. The host must always show a goat when opening a door, never the car.\n",
        "2. The host must always give the option to switch between the initially selected door and the other closed door.\n",
        "\n",
        "Now we solve this problem using Bayesian Networks:\n",
        "\n",
        "* Prior probability of getting the prize P={0, 1, 2}\n",
        "\n",
        "       P(P=0) = P(P=1) = P(P=2) = 1/3\n",
        "\n",
        "* Prior probability of the contestant's choice C={0, 1, 2}\n",
        "\n",
        "       P(C=0) = P(C=1) = P(C=2) = 1/3\n",
        "\n",
        "\n",
        "* Conditional probability of host action H={0, 1, 2}\n",
        "\n",
        "The way the host acts depends on where the prize is and what the contestant initially chooses. This shapes the structure of our Bayesian Network.\n",
        "\n",
        "![picture](https://drive.google.com/uc?export=view&id=1lTbdlPJZmOQwPBrH1bOOQ32tbAbcvD8M)\n",
        "\n",
        "\n",
        "The conditional probability of H given P and C is:\n",
        "\n",
        "![picture](https://drive.google.com/uc?export=view&id=1MVbP6G77guxzXudn4Aqx4Llqvle2afjP)\n",
        "\n",
        "## Implementation and Results"
      ]
    },
    {
      "cell_type": "code",
      "metadata": {
        "id": "Dk_2t551_c4Q"
      },
      "source": [
        "!pip install pgmpy\n",
        "from pgmpy.models import BayesianModel\n",
        "from pgmpy.factors.discrete import TabularCPD"
      ],
      "execution_count": null,
      "outputs": []
    },
    {
      "cell_type": "code",
      "metadata": {
        "id": "SkIHgEUT3LKT"
      },
      "source": [
        "# Defining the network structure\n",
        "model = BayesianModel([('Contestant', 'Host'), ('Prize', 'Host')])\n",
        "\n",
        "# Defining the CPDs:\n",
        "#cpd_c = TabularCPD('Contestant', 3, [[1/3], [1/3], [1/3]])\n",
        "#cpd_p = TabularCPD('Prize', 3, [[1/3], [1/3], [1/3]])\n",
        "#cpd_h = TabularCPD('Host', 3, [[0, 0, 0, 0, 0.5, 1, 0, 1, 0.5],\n",
        "#                               [0.5, 0, 1, 0, 0, 0, 1, 0, 0.5],\n",
        "#                               [0.5, 1, 0, 1, 0.5, 0, 0, 0, 0]],\n",
        "#                  evidence=['Contestant', 'Prize'], evidence_card=[3, 3])\n",
        "\n",
        "cpd_c = TabularCPD('Contestant', 4, [[0.25], [0.25], [0.25], [0.25]])\n",
        "cpd_p = TabularCPD('Prize', 4, [[0.25], [0.25], [0.25], [0.25]])\n",
        "cpd_h = TabularCPD('Host', 4, [[0,   0,    0,    0,    0,    1/3, 0.5,  0.5,  0,    0.5,  1/3, 0.5,  0,    0.5,  0.5,  1/3],\n",
        "                               [1/3, 0,    0.5,  0.5,  0,    0,   0,    0,    0.5,  0,    1/3, 0.5,  0.5,  0,    0.5,  1/3],\n",
        "                               [1/3, 0.5,  0,    0.5,  0.5,  1/3, 0,    0.5,  0,    0,    0,   0,    0.5,  0.5,  0,    1/3],\n",
        "                               [1/3, 0.5,  0.5,  0,    0.5,  1/3, 0.5,  0,    0.5,  0.5,  1/3, 0,    0,    0,    0,    0]],\n",
        "                  evidence=['Contestant', 'Prize'], evidence_card=[4, 4])\n",
        "\n",
        "# Associating the CPDs with the network structure.\n",
        "model.add_cpds(cpd_c, cpd_p, cpd_h)\n"
      ],
      "execution_count": null,
      "outputs": []
    },
    {
      "cell_type": "code",
      "metadata": {
        "id": "e0_lRPha3LKd",
        "colab": {
          "base_uri": "https://localhost:8080/"
        },
        "outputId": "533180f0-247f-45b7-8870-1ab2e06646a7"
      },
      "source": [
        "# Infering the posterior probability\n",
        "from pgmpy.inference import VariableElimination\n",
        "\n",
        "infer = VariableElimination(model)\n",
        "posterior = infer.query(variables=['Prize'], evidence={'Contestant': 0, 'Host': 2}, show_progress=False, joint=False)\n",
        "print(posterior['Prize'])"
      ],
      "execution_count": null,
      "outputs": [
        {
          "output_type": "stream",
          "name": "stderr",
          "text": [
            "WARNING:pgmpy:BayesianModel has been renamed to BayesianNetwork. Please use BayesianNetwork class, BayesianModel will be removed in future.\n",
            "WARNING:pgmpy:BayesianModel has been renamed to BayesianNetwork. Please use BayesianNetwork class, BayesianModel will be removed in future.\n"
          ]
        },
        {
          "output_type": "stream",
          "name": "stdout",
          "text": [
            "+----------+--------------+\n",
            "| Prize    |   phi(Prize) |\n",
            "+==========+==============+\n",
            "| Prize(0) |       0.2500 |\n",
            "+----------+--------------+\n",
            "| Prize(1) |       0.3750 |\n",
            "+----------+--------------+\n",
            "| Prize(2) |       0.0000 |\n",
            "+----------+--------------+\n",
            "| Prize(3) |       0.3750 |\n",
            "+----------+--------------+\n"
          ]
        }
      ]
    },
    {
      "cell_type": "markdown",
      "metadata": {
        "id": "q8XVMr4NFy8v"
      },
      "source": [
        "## Discussions\n",
        "\n",
        "In this task, the scenario of the Monty Hall problem was effectively analyzed using a Bayesian Network. The gained result shows that sticking to the original door we only have 1/3 choice of winning, but switching will double our choice to 2/3.\n",
        "\n",
        "If the rules of the game are changed to 4 doors: the probability of choice of winning decreases to 1/4 if we choose an original door, and switching will increase the probability by 1.5 times (3/4)/2\n",
        "\n",
        "\n",
        "\n",
        "\n",
        "\n"
      ]
    }
  ]
}