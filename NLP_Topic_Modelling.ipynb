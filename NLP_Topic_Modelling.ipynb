{
  "nbformat": 4,
  "nbformat_minor": 0,
  "metadata": {
    "colab": {
      "provenance": [],
      "include_colab_link": true
    },
    "kernelspec": {
      "name": "python3",
      "display_name": "Python 3"
    }
  },
  "cells": [
    {
      "cell_type": "markdown",
      "metadata": {
        "id": "view-in-github",
        "colab_type": "text"
      },
      "source": [
        "<a href=\"https://colab.research.google.com/github/rewpak/AI-works/blob/main/NLP_Topic_Modelling.ipynb\" target=\"_parent\"><img src=\"https://colab.research.google.com/assets/colab-badge.svg\" alt=\"Open In Colab\"/></a>"
      ]
    },
    {
      "cell_type": "markdown",
      "source": [
        "# Lab 6. Natural Language Processing\n",
        "# Task 6.1 Topic Modeling\n",
        "# Problem Descriptions\n",
        "\n",
        "Topic modeling is a method used in text mining to discover abstract topics within a collection of documents. The method involves the following steps:\n",
        "\n",
        "1. Data Collection: Gather and compile the text data from various sources, such as articles, books, social media posts, or any other text-rich documents.\n",
        "\n",
        "2. Preprocessing: We then perform a simple data cleaning by removing the stop words and stemming with one of the stemmers provided in nltk, “SnoballStemmer”\n",
        "\n",
        "3. Feature Extraction: Transform the preprocessed text into a format that can be analyzed and build a document-term matrix using the bag-of-words (BoW) model.\n",
        "\n",
        "4. Model Selection: Choose a topic modeling algorithm. The most common ones are Latent Dirichlet Allocation (LDA)\n",
        "\n",
        "5. Training the Model: Run the chosen algorithm on your document-term matrix. The model will attempt to discover patterns and group words into topics based on their distribution across the documents.\n",
        "\n",
        "6. Topic Interpretation: Analyze the output of the model, which includes a list of topics and the words that are most representative of each topic.\n",
        "\n",
        "7. Application: Apply the trained LDA model to a new text."
      ],
      "metadata": {
        "id": "9ZuB8k6-ut29"
      }
    },
    {
      "cell_type": "code",
      "metadata": {
        "id": "UKmi1fYkXRWj"
      },
      "source": [
        "import nltk\n",
        "from nltk.corpus import stopwords\n",
        "from nltk.stem.snowball import SnowballStemmer\n",
        "from gensim import models, corpora\n"
      ],
      "execution_count": null,
      "outputs": []
    },
    {
      "cell_type": "code",
      "metadata": {
        "id": "FExllgCTXWhI"
      },
      "source": [
        "documents = [\n",
        "  \"\"\"\n",
        "  In the realm of environmental sustainability, the role of technology has been pivotal.\n",
        "  Innovative solutions for renewable energy, like solar panels and wind turbines, are transforming how we power our cities.\n",
        "  Meanwhile, advancements in electric vehicles and battery storage are essential in the fight against climate change.\n",
        "  The impact of technology on reducing carbon emissions is undeniable.\n",
        "  Additionally, conservation efforts are being augmented by technology, from wildlife tracking systems to data analysis of climate patterns.\n",
        "  The intersection of technology and environmentalism is creating new pathways for sustainable development.\".\n",
        "  \"\"\",\n",
        "  \"\"\"\n",
        "  The culinary arts are a profound expression of cultural heritage.\n",
        "  Traditional recipes passed down through generations are more than just instructions for preparing food; they are a window into a culture’s history and values.\n",
        "  Each ingredient, technique, and flavor tells a story of geography, trade, and human connection. The evolution of regional cuisines reflects the blending of diverse cultures and histories.\n",
        "  For instance, the fusion of indigenous ingredients and colonial influences can be seen in many Latin American dishes. Moreover, the art of cooking is a medium of preserving and celebrating cultural identity in a globalized world.\n",
        "  \"\"\"\n",
        "]"
      ],
      "execution_count": null,
      "outputs": []
    },
    {
      "cell_type": "code",
      "metadata": {
        "id": "chIHYOhwYhAg",
        "outputId": "e74a6af0-bfda-4338-a0ae-71102faa066f",
        "colab": {
          "base_uri": "https://localhost:8080/"
        }
      },
      "source": [
        "# Clean the data by using stemming and stopwords removal\n",
        "nltk.download('stopwords')\n",
        "stemmer = SnowballStemmer('english')\n",
        "stop_words = stopwords.words('english')\n",
        "texts = [\n",
        "  [stemmer.stem(word) for word in document.lower().split() if word not in stop_words]\n",
        "  for document in documents\n",
        "  ]"
      ],
      "execution_count": null,
      "outputs": [
        {
          "output_type": "stream",
          "name": "stderr",
          "text": [
            "[nltk_data] Downloading package stopwords to /root/nltk_data...\n",
            "[nltk_data]   Package stopwords is already up-to-date!\n"
          ]
        }
      ]
    },
    {
      "cell_type": "code",
      "metadata": {
        "id": "9xljrygKZVbT"
      },
      "source": [
        "# Create a dictionary from the words\n",
        "dictionary = corpora.Dictionary(texts)\n",
        "\n",
        "# Create a document-term matrix\n",
        "doc_term_mat = [dictionary.doc2bow(text) for text in texts]\n",
        "\n",
        "# Generate the LDA model\n",
        "num_topics = 2\n",
        "ldamodel = models.ldamodel.LdaModel(doc_term_mat,\n",
        "        num_topics=num_topics, id2word=dictionary, passes=25)\n"
      ],
      "execution_count": null,
      "outputs": []
    },
    {
      "cell_type": "code",
      "metadata": {
        "id": "G3XG_FXPhMzq",
        "outputId": "998b9f25-699c-4160-ff10-d5df5f7a2587",
        "colab": {
          "base_uri": "https://localhost:8080/"
        }
      },
      "source": [
        "num_words = 5\n",
        "for i in range(num_topics):\n",
        "  print(ldamodel.print_topic(i, topn=num_words))\n",
        "\n",
        "print('\\nTop ' + str(num_words) + ' contributing words to each topic:')\n",
        "for item in ldamodel.print_topics(num_topics=num_topics, num_words=num_words):\n",
        "    print('\\nTopic', item[0])\n",
        "    list_of_strings = item[1].split(' + ')\n",
        "    for text in list_of_strings:\n",
        "        details = text.split('*')\n",
        "        print(\"%-12s:%0.2f%%\" %(details[1], 100*float(details[0])))\n"
      ],
      "execution_count": null,
      "outputs": [
        {
          "output_type": "stream",
          "name": "stdout",
          "text": [
            "0.033*\"technolog\" + 0.024*\"environment\" + 0.024*\"climat\" + 0.014*\"vehicl\" + 0.014*\"power\"\n",
            "0.043*\"cultur\" + 0.024*\"art\" + 0.014*\"seen\" + 0.014*\"mani\" + 0.014*\"window\"\n",
            "\n",
            "Top 5 contributing words to each topic:\n",
            "\n",
            "Topic 0\n",
            "\"technolog\" :3.30%\n",
            "\"environment\":2.40%\n",
            "\"climat\"    :2.40%\n",
            "\"vehicl\"    :1.40%\n",
            "\"power\"     :1.40%\n",
            "\n",
            "Topic 1\n",
            "\"cultur\"    :4.30%\n",
            "\"art\"       :2.40%\n",
            "\"seen\"      :1.40%\n",
            "\"mani\"      :1.40%\n",
            "\"window\"    :1.40%\n"
          ]
        }
      ]
    },
    {
      "cell_type": "code",
      "metadata": {
        "id": "5ZmJOtjhQ6WX",
        "outputId": "4f13034d-5d0b-49b0-9bc8-86084fe4231c",
        "colab": {
          "base_uri": "https://localhost:8080/"
        }
      },
      "source": [
        "new_docs = [\n",
        "  \"\"\"\n",
        "  Innovative culinary techniques are increasingly focusing on sustainability,\n",
        "  blending the art of cooking with technology to minimize environmental impact.\n",
        "  Chefs are utilizing modern technology to source local, organic ingredients,\n",
        "  reducing carbon footprints associated with food transportation.\n",
        "  Techniques like sous-vide and molecular gastronomy not only enhance flavor but also optimize energy use.\n",
        "  Additionally, technology in agriculture, such as precision farming,\n",
        "  directly influences the quality and sustainability of ingredients used in the culinary arts.\n",
        "  This fusion highlights the importance of technology in evolving culinary traditions while emphasizing environmental responsibility.”\n",
        "  \"\"\"\n",
        "]\n",
        "\n",
        "new_texts = [\n",
        "  [stemmer.stem(word) for word in document.lower().split() if word not in stop_words]\n",
        "  for document in new_docs\n",
        "  ]\n",
        "new_doc_term_mat = [dictionary.doc2bow(text) for text in new_texts]\n",
        "\n",
        "vector = ldamodel[new_doc_term_mat]\n",
        "print(vector[0])\n"
      ],
      "execution_count": null,
      "outputs": [
        {
          "output_type": "stream",
          "name": "stdout",
          "text": [
            "[(0, 0.5712285), (1, 0.42877153)]\n"
          ]
        }
      ]
    },
    {
      "cell_type": "markdown",
      "source": [
        "# Discussions\n",
        "\n",
        "In this task, we employed Latent Dirichlet Allocation (LDA), a popular topic modeling technique, to analyze and uncover underlying themes in a set of documents. The primary goal was to identify distinct topics and understand how different documents relate to these topics.\n",
        "\n",
        "Findings:\n",
        "\n",
        "Topic 0: Characterized by words such as \"technology\" (3.30%), \"environment\" (2.40%), \"climate\" (2.40%), \"vehicle\" (1.40%), and \"power\" (1.40%).\n",
        "\n",
        "Topic 1: Defined by terms like \"culture\" (4.30%), \"art\" (2.40%), \"seen\" (1.40%), \"many\" (1.40%), and \"window\" (1.40%).\n",
        "\n",
        "After implementing a trained model to a new document we can see that:\n",
        "(0, 0.5712285) indicates that about 57.12% of the document is related to Topic 0\n",
        "(1, 0.42877153) shows that around 42.88% of the document is associated with Topic 1\n",
        "\n",
        "The document is a mix of discussions about both technology/environment and cultural arts, but with a slightly greater emphasis on the technology and environment aspect.\n"
      ],
      "metadata": {
        "id": "N1kFJYrhusOz"
      }
    },
    {
      "cell_type": "code",
      "source": [],
      "metadata": {
        "id": "RuYzSves4VDK"
      },
      "execution_count": null,
      "outputs": []
    }
  ]
}