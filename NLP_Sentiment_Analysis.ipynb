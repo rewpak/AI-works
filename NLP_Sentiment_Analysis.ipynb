{
  "nbformat": 4,
  "nbformat_minor": 0,
  "metadata": {
    "colab": {
      "provenance": [],
      "include_colab_link": true
    },
    "kernelspec": {
      "name": "python3",
      "display_name": "Python 3"
    }
  },
  "cells": [
    {
      "cell_type": "markdown",
      "metadata": {
        "id": "view-in-github",
        "colab_type": "text"
      },
      "source": [
        "<a href=\"https://colab.research.google.com/github/rewpak/AI-works/blob/main/NLP_Sentiment_Analysis.ipynb\" target=\"_parent\"><img src=\"https://colab.research.google.com/assets/colab-badge.svg\" alt=\"Open In Colab\"/></a>"
      ]
    },
    {
      "cell_type": "markdown",
      "source": [
        "# Lab 6. Natural Language Processing\n",
        "# Task 6.1 Sentiment Analysis\n",
        "# Problem Descriptions\n",
        "\n",
        "In sentiment analysis the goal is to classify a text as having either\n",
        "Positive or Negative sentiment. For example, “This movie was poorly written and acted” should be considered Negative.\n",
        "\n",
        "In this task, we will use the dataset “movie_reviews” with only 1000 positive and 1000 negative reviews.\n",
        "\n",
        "Sentiment Analysis consist of following steps:\n",
        "\n",
        "1. Collection of movie reviews with labels\n",
        "\n",
        "  Positive sentiment is labeled as 0, and negative sentiment labeled as 1.\n",
        "  \n",
        "  positive (0)\n",
        "\n",
        "  negative (1)\n",
        "\n",
        "2.  Split the data into training set and testing set:\n",
        "\n",
        "   training set (80%)\n",
        "\n",
        "   testing set (20%)\n",
        "\n",
        "3. Extract the word count features\n",
        "\n",
        "   tf: term frequency\n",
        "\n",
        "   tf-idf: tf weighted by inverse document frequency\n",
        "\n",
        "\n",
        "4. Build the naïve Bayes classifier from the training set:\n",
        "\n",
        "   For this task involving discrete data, we employ a Multinomial Naïve Bayes classifier. The choice of this classifier is apt for text classification due to its simplicity and effectiveness with word count features.\n",
        "\n",
        "5. Apply the classifier on the testing data set:\n",
        "\n",
        "   The Naïve Bayes classifier is built using the training set, and then it's applied to the testing data set to make predictions.\n",
        "\n",
        "6. Evaluate the performance:\n",
        "\n",
        "   The final step involves evaluating the model's performance. Common metrics such as accuracy, precision, recall, and F1-score are employed to assess how well the classifier distinguishes between positive and negative sentiments.\n"
      ],
      "metadata": {
        "id": "PEPGcXbpeKlY"
      }
    },
    {
      "cell_type": "code",
      "metadata": {
        "id": "QVU4fsSf3xMS",
        "outputId": "a1129ce9-3678-412e-8678-57b2d800c136",
        "colab": {
          "base_uri": "https://localhost:8080/"
        }
      },
      "source": [
        "!pip install nltk\n",
        "import nltk\n",
        "from nltk.corpus import movie_reviews\n",
        "\n",
        "nltk.download('movie_reviews')"
      ],
      "execution_count": null,
      "outputs": [
        {
          "output_type": "stream",
          "name": "stdout",
          "text": [
            "Requirement already satisfied: nltk in /usr/local/lib/python3.10/dist-packages (3.8.1)\n",
            "Requirement already satisfied: click in /usr/local/lib/python3.10/dist-packages (from nltk) (8.1.7)\n",
            "Requirement already satisfied: joblib in /usr/local/lib/python3.10/dist-packages (from nltk) (1.3.2)\n",
            "Requirement already satisfied: regex>=2021.8.3 in /usr/local/lib/python3.10/dist-packages (from nltk) (2023.6.3)\n",
            "Requirement already satisfied: tqdm in /usr/local/lib/python3.10/dist-packages (from nltk) (4.66.1)\n"
          ]
        },
        {
          "output_type": "stream",
          "name": "stderr",
          "text": [
            "[nltk_data] Downloading package movie_reviews to /root/nltk_data...\n",
            "[nltk_data]   Package movie_reviews is already up-to-date!\n"
          ]
        },
        {
          "output_type": "execute_result",
          "data": {
            "text/plain": [
              "True"
            ]
          },
          "metadata": {},
          "execution_count": 10
        }
      ]
    },
    {
      "cell_type": "code",
      "metadata": {
        "id": "BxcAbbwRjbn1"
      },
      "source": [
        "from sklearn.naive_bayes import MultinomialNB\n",
        "from sklearn.feature_extraction.text import TfidfVectorizer\n",
        "from sklearn import metrics\n",
        "from sklearn.model_selection import train_test_split"
      ],
      "execution_count": null,
      "outputs": []
    },
    {
      "cell_type": "code",
      "metadata": {
        "id": "ob9orSHkjgCc"
      },
      "source": [
        "# Get the positive and negative review IDs\n",
        "fileids_pos = movie_reviews.fileids('pos')\n",
        "fileids_neg = movie_reviews.fileids('neg')\n",
        "\n",
        "# Load the reviews\n",
        "raw_data = []\n",
        "for i in range(len(fileids_pos)):\n",
        "  raw_data.append(movie_reviews.raw(fileids_pos[i]))\n",
        "for i in range(len(fileids_neg)):\n",
        "  raw_data.append(movie_reviews.raw(fileids_neg[i]))\n",
        "\n",
        "# The corresponding labels for the reviews, 0 for postive, 1 for negative\n",
        "labels = [0] * len(fileids_pos) + [1] * len(fileids_neg)\n",
        "\n",
        "# Split the training and testing set by 80-20%\n",
        "X_train, X_test, Y_train, Y_test = train_test_split(raw_data, labels, test_size=0.2)"
      ],
      "execution_count": null,
      "outputs": []
    },
    {
      "cell_type": "code",
      "metadata": {
        "id": "cT0E6u7kj3rv",
        "outputId": "96e1acd8-4883-43c8-fa13-a707fe325081",
        "colab": {
          "base_uri": "https://localhost:8080/"
        }
      },
      "source": [
        "# Calculate the tf-idf features from the training set\n",
        "tfidf = TfidfVectorizer(use_idf=False)\n",
        "tfidf_data = tfidf.fit_transform(X_train)\n",
        "print(tfidf_data.shape)\n",
        "\n",
        "# Train the naive Bayes model for prediction\n",
        "classifier = MultinomialNB().fit(tfidf_data, Y_train)"
      ],
      "execution_count": null,
      "outputs": [
        {
          "output_type": "stream",
          "name": "stdout",
          "text": [
            "(1600, 36223)\n"
          ]
        }
      ]
    },
    {
      "cell_type": "code",
      "metadata": {
        "id": "B96fhmaN38sH",
        "outputId": "a05f7bfe-5213-487c-d8f8-f2c33d514f72",
        "colab": {
          "base_uri": "https://localhost:8080/"
        }
      },
      "source": [
        "# Performance on the testing set\n",
        "testing_tfidf = tfidf.transform(X_test)\n",
        "predictions = classifier.predict(testing_tfidf)\n",
        "print(metrics.classification_report(Y_test, predictions, target_names=['pos', 'neg']))"
      ],
      "execution_count": null,
      "outputs": [
        {
          "output_type": "stream",
          "name": "stdout",
          "text": [
            "              precision    recall  f1-score   support\n",
            "\n",
            "         pos       0.98      0.20      0.33       210\n",
            "         neg       0.53      0.99      0.69       190\n",
            "\n",
            "    accuracy                           0.58       400\n",
            "   macro avg       0.75      0.60      0.51       400\n",
            "weighted avg       0.76      0.58      0.50       400\n",
            "\n"
          ]
        }
      ]
    },
    {
      "cell_type": "code",
      "metadata": {
        "id": "u3vS8J7tkUBZ",
        "outputId": "26d1c4c3-beb1-4883-bbe7-19ea47df479f",
        "colab": {
          "base_uri": "https://localhost:8080/"
        }
      },
      "source": [
        "print(X_train[0])\n",
        "print(testing_tfidf[0])"
      ],
      "execution_count": null,
      "outputs": [
        {
          "output_type": "stream",
          "name": "stdout",
          "text": [
            "we could paraphrase michelle pfieffer's character in dangerous minds and say that beyond rangoon starts with an \" a . \" \n",
            "that's fair enough . \n",
            "all movies , like all school children , should be given the benefit of the doubt . \n",
            "the chance to succeed . \n",
            "after all , we like to think that the right combination of talent and effort can do wonders . \n",
            "mountains can be moved , and good movies can be made . \n",
            "yeah right . \n",
            "children fail , as do films . \n",
            "as does director john boorman's latest . \n",
            "the success of beyond rangoon hinges on the believability of patricia arquette ( ed wood , true romance ) as the busty westerner-in-peril wandering about 1988 burma without a passport . \n",
            "though we can stomach the mild plot contrivances that get her there , it's a tougher task to overlook the actress . \n",
            "she's a lightweight . \n",
            "as the first scene ( with narration ! ) \n",
            "demonstrates , she doesn't have * nearly * enough range for the emotions that her character--a mother fleeing the memories of a murdered husband and son--is supposed to show . \n",
            "she may give a stronger performance than , say , keanu reeves in a walk in the clouds , by not by much . \n",
            "beyond rangoon is a very physically appealing film , thanks to the practiced craftsmanship of john boorman ( deliverance , excalibur , hope and glory ) . \n",
            "he keeps the narrative moving , no matter how muddy the story--or the heroine--gets . \n",
            "why he chose arquette remains a mystery , though . \n",
            "maybe he was thinking that the dramatic weight of the story would overcome any casting deficiencies . \n",
            "but even after an hour of half-stated political statements and murky mass killings , we * still * don't know enough of what's happening in this country to feel distressed for the characters or their situations . \n",
            "empty exoticism . \n",
            "the technical credits in beyond rangoon are a curious mix , combining lush jungle photography with bad blue-screen work . \n",
            "also odd is the obvious dubbing . \n",
            "done to make some of the foreign characters sound less foreign ? \n",
            "and , is it my mistake , or do the same extras keep reappearing as different soldiers ? ? \n",
            "doo doo doo doo . \n",
            "[ \" twilight zone \" theme , or opinion of movie . \n",
            "you be the judge . ] \n",
            "\n",
            "  (0, 36064)\t0.023964745109694097\n",
            "  (0, 36063)\t0.026289068221865376\n",
            "  (0, 36019)\t0.03248170926637455\n",
            "  (0, 35713)\t0.043488399516387916\n",
            "  (0, 35712)\t0.03439980732241314\n",
            "  (0, 35672)\t0.042340803054406455\n",
            "  (0, 35643)\t0.04148661676697812\n",
            "  (0, 35491)\t0.07924227485329047\n",
            "  (0, 35470)\t0.04265556492620301\n",
            "  (0, 35447)\t0.03419070167667031\n",
            "  (0, 35377)\t0.06023284906226176\n",
            "  (0, 35371)\t0.017391689311329585\n",
            "  (0, 35357)\t0.017885034426475484\n",
            "  (0, 35279)\t0.03238196516429155\n",
            "  (0, 35254)\t0.043488399516387916\n",
            "  (0, 35216)\t0.06119277127123447\n",
            "  (0, 35102)\t0.02490718846934066\n",
            "  (0, 34904)\t0.05472830124801915\n",
            "  (0, 34745)\t0.041739337189893\n",
            "  (0, 34554)\t0.033459111769266824\n",
            "  (0, 34392)\t0.06817384479425508\n",
            "  (0, 34276)\t0.02137823270004262\n",
            "  (0, 34190)\t0.013213048389790897\n",
            "  (0, 33714)\t0.05710910504549009\n",
            "  (0, 33414)\t0.016389271004913296\n",
            "  :\t:\n",
            "  (0, 5080)\t0.030674597441128007\n",
            "  (0, 4776)\t0.011244460008102438\n",
            "  (0, 4744)\t0.010528413156321135\n",
            "  (0, 4341)\t0.0564591014477485\n",
            "  (0, 3452)\t0.02099884471278905\n",
            "  (0, 3424)\t0.018740277265407074\n",
            "  (0, 3285)\t0.029269092283329055\n",
            "  (0, 3141)\t0.03219475081975139\n",
            "  (0, 3076)\t0.011230334395475928\n",
            "  (0, 2665)\t0.07042124849378971\n",
            "  (0, 2660)\t0.04000085756916503\n",
            "  (0, 2306)\t0.05710910504549009\n",
            "  (0, 2193)\t0.05241219606044598\n",
            "  (0, 2029)\t0.01127986095896746\n",
            "  (0, 1654)\t0.2721020285850004\n",
            "  (0, 1608)\t0.03369100318642779\n",
            "  (0, 1550)\t0.06817384479425508\n",
            "  (0, 1451)\t0.016260521823777133\n",
            "  (0, 1425)\t0.06225391604230094\n",
            "  (0, 1380)\t0.012176855598032745\n",
            "  (0, 1104)\t0.08468160610881291\n",
            "  (0, 1065)\t0.04857549367815715\n",
            "  (0, 881)\t0.023548606883350934\n",
            "  (0, 714)\t0.0467392311519474\n",
            "  (0, 171)\t0.06817384479425508\n"
          ]
        }
      ]
    },
    {
      "cell_type": "code",
      "metadata": {
        "id": "gZZ1pN3UfA3S",
        "outputId": "fec41e38-d532-4c37-d465-3434c3bb43c4",
        "colab": {
          "base_uri": "https://localhost:8080/",
          "height": 473
        }
      },
      "source": [
        "# Evaluate the sentiment for each sentence in a review, and plot the variation of sentiment\n",
        "import matplotlib.pyplot as plt\n",
        "\n",
        "sentences = X_test[0].split('.')\n",
        "\n",
        "testing_tfidf = tfidf.transform(sentences)\n",
        "predictions = classifier.predict_proba(testing_tfidf)\n",
        "polarity = [x[0] - x[1] for x in predictions]\n",
        "# polarity = [x[0] if (x[0] > x[1]) else -x[1] for x in predictions]\n",
        "\n",
        "plt.xlabel('Sentences')\n",
        "plt.ylabel('Polarity')\n",
        "plt.plot(polarity)\n",
        "plt.ylim(-1, 1)"
      ],
      "execution_count": null,
      "outputs": [
        {
          "output_type": "execute_result",
          "data": {
            "text/plain": [
              "(-1.0, 1.0)"
            ]
          },
          "metadata": {},
          "execution_count": 18
        },
        {
          "output_type": "display_data",
          "data": {
            "text/plain": [
              "<Figure size 640x480 with 1 Axes>"
            ],
            "image/png": "[encoded data removed]"
          },
          "metadata": {}
        }
      ]
    },
    {
      "cell_type": "markdown",
      "source": [
        "# Discussions\n",
        "\n",
        "In this task, we classify a text as having either Positive or Negative sentiment. when we used use_idf=True, things looked pretty balanced. Both positive and negative sentiments had a good mix of precision and recall. The F1 scores, which kind of blend these two, were decent overall.\n",
        "\n",
        "when we turned off the use_idf, it got a bit tricky. Precision for positive sentiments was high, however, recall was low – meaning we missed a bunch of positive instances. Negative sentiments were okay, with a balance between precision and recall. The overall F1-scores suffered, particularly in the case of the positive sentiments."
      ],
      "metadata": {
        "id": "XJgc_XHJqtLW"
      }
    },
    {
      "cell_type": "code",
      "source": [],
      "metadata": {
        "id": "AS2v1Qms7njF"
      },
      "execution_count": null,
      "outputs": []
    }
  ]
}