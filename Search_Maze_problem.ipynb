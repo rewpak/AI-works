{
  "nbformat": 4,
  "nbformat_minor": 0,
  "metadata": {
    "colab": {
      "provenance": [],
      "include_colab_link": true
    },
    "kernelspec": {
      "name": "python3",
      "display_name": "Python 3"
    }
  },
  "cells": [
    {
      "cell_type": "markdown",
      "metadata": {
        "id": "view-in-github",
        "colab_type": "text"
      },
      "source": [
        "<a href=\"https://colab.research.google.com/github/rewpak/AI-works/blob/main/Search_Maze_problem.ipynb\" target=\"_parent\"><img src=\"https://colab.research.google.com/assets/colab-badge.svg\" alt=\"Open In Colab\"/></a>"
      ]
    },
    {
      "cell_type": "markdown",
      "metadata": {
        "id": "42z1SQqKFdtg"
      },
      "source": [
        "# Lab 2. Search\n",
        "# Task 2.3 Maze Solver\n",
        "## Problem Descriptions\n",
        "Implement the program to solve the Maze propblem. The goal of Maze problem is to find the most optimal path to reach a target destination. There are several symbols in Maze:\n",
        "\n",
        "\n",
        "*   \"O\" - the start position\n",
        "*   \"X' - the target destination\n",
        "*   \"#\" - the walls/obstacles (you cannot go through)\n",
        "*   \" \" - the blanks spaces (you can move freely in that direction)\n",
        "\n",
        "First we need define required variables to able to solve the problem\n",
        "\n",
        "\n",
        "\n",
        "1.   **State:** This is the present location in the maze, indicated by X and Y coordinates.\n",
        "2.   **Action:** A move from one point to another aimed at reaching the target. Initially, options are UP, DOWN, LEFT, or RIGHT, but if we have a '#' in the state, that direction is blocked. In the extended search, options include diagonal moves: LEFT UP, LEFT DOWN, RIGHT UP, or RIGHT DOWN.\n",
        "3.   **Goal test:** Check if the current state has the position of the target coordinates\n",
        "4.   **Path Cost:** In the initial search, each movement (UP, DOWN, LEFT, RIGHT) has a cost of 1. In the extended search, normal movements have a cost of 1, while diagonal movements cost 1.4.\n",
        "\n",
        "\n",
        "## Implementation and Results"
      ]
    },
    {
      "cell_type": "code",
      "metadata": {
        "id": "qinJknR5WEzC",
        "colab": {
          "base_uri": "https://localhost:8080/"
        },
        "outputId": "e9294dd5-81ff-4d3f-9b25-75325110f358"
      },
      "source": [
        "!pip install simpleai\n",
        "from simpleai.search import SearchProblem, astar, greedy, breadth_first, depth_first, uniform_cost\n",
        "import math"
      ],
      "execution_count": null,
      "outputs": [
        {
          "output_type": "stream",
          "name": "stdout",
          "text": [
            "Collecting simpleai\n",
            "  Downloading simpleai-0.8.3.tar.gz (94 kB)\n",
            "\u001b[2K     \u001b[90m━━━━━━━━━━━━━━━━━━━━━━━━━━━━━━━━━━━━━━━━\u001b[0m \u001b[32m94.4/94.4 kB\u001b[0m \u001b[31m2.1 MB/s\u001b[0m eta \u001b[36m0:00:00\u001b[0m\n",
            "\u001b[?25h  Preparing metadata (setup.py) ... \u001b[?25l\u001b[?25hdone\n",
            "Building wheels for collected packages: simpleai\n",
            "  Building wheel for simpleai (setup.py) ... \u001b[?25l\u001b[?25hdone\n",
            "  Created wheel for simpleai: filename=simpleai-0.8.3-py3-none-any.whl size=100983 sha256=817d47cf96f94c82ea3ef70dde8ec03719373845414bf7bf66bfc32e4028fd2c\n",
            "  Stored in directory: /root/.cache/pip/wheels/91/0c/38/421d7910e7bc59b97fc54f490808bdb1097607d83d1a592865\n",
            "Successfully built simpleai\n",
            "Installing collected packages: simpleai\n",
            "Successfully installed simpleai-0.8.3\n"
          ]
        }
      ]
    },
    {
      "cell_type": "code",
      "metadata": {
        "id": "pEDEpmGzXklh"
      },
      "source": [
        "MAP = \"\"\"\n",
        "##############################\n",
        "#         #              #   #\n",
        "# ####    ########       #   #\n",
        "#  o #    #              #   #\n",
        "#    ###     ####   ######   #\n",
        "#         ####      #        #\n",
        "#            #  #   #   #### #\n",
        "#     ######    #       # x  #\n",
        "#        #      #            #\n",
        "##############################\n",
        "\"\"\"\n",
        "MAP = [list(x) for x in MAP.split(\"\\n\") if x]\n",
        "\n",
        "COSTS = {\n",
        "    \"up\": 1.0,\n",
        "    \"down\": 1.0,\n",
        "    \"left\": 1.0,\n",
        "    \"right\": 1.0,\n",
        "    \"up left\": 1.4,\n",
        "    \"up right\": 1.4,\n",
        "    \"down left\": 1.4,\n",
        "    \"down right\": 1.4,\n",
        "}\n"
      ],
      "execution_count": null,
      "outputs": []
    },
    {
      "cell_type": "code",
      "metadata": {
        "id": "vZKngpxpX8Lj"
      },
      "source": [
        "\n",
        "class Maze(SearchProblem):\n",
        "\n",
        "    def __init__(self, board):\n",
        "        self.board = board\n",
        "        self.goal = (0, 0)\n",
        "        for y in range(len(self.board)):\n",
        "            for x in range(len(self.board[y])):\n",
        "                if self.board[y][x].lower() == \"o\":\n",
        "                    self.initial = (x, y)\n",
        "                elif self.board[y][x].lower() == \"x\":\n",
        "                    self.goal = (x, y)\n",
        "\n",
        "        super(Maze, self).__init__(initial_state=self.initial)\n",
        "\n",
        "    def actions(self, state):\n",
        "        actions = []\n",
        "        for action in list(COSTS.keys()):\n",
        "            newx, newy = self.result(state, action)\n",
        "            if self.board[newy][newx] != \"#\":\n",
        "                actions.append(action)\n",
        "        return actions\n",
        "\n",
        "    def result(self, state, action):\n",
        "        x, y = state\n",
        "\n",
        "        if action.count(\"up\"):\n",
        "            y -= 1\n",
        "        if action.count(\"down\"):\n",
        "            y += 1\n",
        "        if action.count(\"left\"):\n",
        "            x -= 1\n",
        "        if action.count(\"right\"):\n",
        "            x += 1\n",
        "\n",
        "        new_state = (x, y)\n",
        "        return new_state\n",
        "\n",
        "    def is_goal(self, state):\n",
        "        return state == self.goal\n",
        "\n",
        "    def cost(self, state, action, state2):\n",
        "        return COSTS[action]\n",
        "\n",
        "    def heuristic(self, state):\n",
        "        x, y = state\n",
        "        gx, gy = self.goal\n",
        "        return math.sqrt((x - gx) ** 2 + (y - gy) ** 2)"
      ],
      "execution_count": null,
      "outputs": []
    },
    {
      "cell_type": "code",
      "metadata": {
        "id": "SSoissI_Y7jd",
        "colab": {
          "base_uri": "https://localhost:8080/"
        },
        "outputId": "d63a437f-3188-4a37-9b13-3cc7ffa32ff4"
      },
      "source": [
        "problem = Maze (MAP)\n",
        "def PrintPath(result, searchName):\n",
        "  path = [x[1] for x in result.path()]\n",
        "  for y in range(len(MAP)):\n",
        "      for x in range(len(MAP[y])):\n",
        "          print('.' if (x,y) in path[1:-1] else MAP[y][x], end='')\n",
        "      print()\n",
        "  print(searchName+\" Search: moves=%s, cost=%s.\" %(result. depth, result. cost))\n",
        "result = astar(problem, graph_search=True)\n",
        "PrintPath(result, \"A*\")\n",
        "result = greedy(problem,graph_search=True)\n",
        "PrintPath(result, \"Greedy\")\n",
        "result = breadth_first(problem,graph_search=True)\n",
        "PrintPath(result, \"breadth-first\")\n",
        "result = depth_first(problem, graph_search=True)\n",
        "PrintPath(result, \"depth-first\")\n",
        "result = uniform_cost(problem, graph_search=True)\n",
        "PrintPath(result, \"uniform-cost\")"
      ],
      "execution_count": null,
      "outputs": [
        {
          "output_type": "stream",
          "name": "stdout",
          "text": [
            "##############################\n",
            "#         #              #   #\n",
            "# ####    ########       #   #\n",
            "#  o #    #  ....        #   #\n",
            "#   .###  ...####.  ######   #\n",
            "#    .....####    . #        #\n",
            "#            #  #  .#   #### #\n",
            "#     ######    #   ....#.x  #\n",
            "#        #      #       .    #\n",
            "##############################\n",
            "A* Search: moves=23, cost=26.999999999999993.\n",
            "##############################\n",
            "#         #              #   #\n",
            "# ####    ########       #   #\n",
            "#  o #    #              #   #\n",
            "#   .###     ####   ######   #\n",
            "#    .    ####  .   #        #\n",
            "#     ...... # .#.  #   #### #\n",
            "#     ######... # ......#.x  #\n",
            "#        #      #       .    #\n",
            "##############################\n",
            "Greedy Search: moves=23, cost=26.999999999999996.\n",
            "##############################\n",
            "#         #              #   #\n",
            "# ####    ########       #   #\n",
            "#  o #    #  ....        #   #\n",
            "#   .###  ...####.  ######   #\n",
            "#    .....####    . #        #\n",
            "#            #  #  .#   #### #\n",
            "#     ######    #   ....# x  #\n",
            "#        #      #       ..   #\n",
            "##############################\n",
            "breadth-first Search: moves=23, cost=26.999999999999993.\n",
            "##############################\n",
            "# ....    #              #   #\n",
            "#.####.   ########       #   #\n",
            "#. o # .  #              #   #\n",
            "#.  .###.    ####   ######   #\n",
            "# .  .   .####  .   #        #\n",
            "#.    .   .. # .#.  #   #### #\n",
            "#. . .######. . # . . . #.x  #\n",
            "# . .    #   .  #  . . ..    #\n",
            "##############################\n",
            "depth-first Search: moves=38, cost=49.59999999999997.\n",
            "##############################\n",
            "#         #              #   #\n",
            "# ####    ########       #   #\n",
            "#  o #    #  ....        #   #\n",
            "#   .###  ...####.  ######   #\n",
            "#    .....####    . #        #\n",
            "#            #  #  .#   #### #\n",
            "#     ######    #   ....# x  #\n",
            "#        #      #       ..   #\n",
            "##############################\n",
            "uniform-cost Search: moves=23, cost=26.999999999999993.\n"
          ]
        }
      ]
    },
    {
      "cell_type": "markdown",
      "metadata": {
        "id": "q8XVMr4NFy8v"
      },
      "source": [
        "## Discussions\n",
        "\n",
        "In this task, ...\n",
        "\n",
        "\n",
        "Initially, A* search took 33 moves with a cost of 33. Subsequent searches (Breadth-First, Depth-First, Uniform-Cost, and Greedy Best-First) resulted in the same number of moves and costs. However, their movement patterns varied. Greedy and Depth-First searches imitated A in movement.\n",
        "\n",
        "Adding extra walls only affected A* Search's optimal solutions. When diagonal moves were introduced at a cost of 1.4, moves reduced from 33 to 23, and cost lowered from 33 to 26.99. Breadth-First and Uniform-Cost searches matched A* in moves and cost, while Greedy had the same moves but a cost of 26.99. Depth-First's moves increased to 38, and cost rose to 49.599 due to backtracking from the bottom. In conclusion, A* search consistently delivered the most efficient solution and cost compared to other methods."
      ]
    }
  ]
}