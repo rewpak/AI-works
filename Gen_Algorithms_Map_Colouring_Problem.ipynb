{
  "nbformat": 4,
  "nbformat_minor": 0,
  "metadata": {
    "colab": {
      "provenance": [],
      "include_colab_link": true
    },
    "kernelspec": {
      "name": "python3",
      "display_name": "Python 3"
    }
  },
  "cells": [
    {
      "cell_type": "markdown",
      "metadata": {
        "id": "view-in-github",
        "colab_type": "text"
      },
      "source": [
        "<a href=\"https://colab.research.google.com/github/rewpak/AI-works/blob/main/Gen_Algorithms_Map_Colouring_Problem.ipynb\" target=\"_parent\"><img src=\"https://colab.research.google.com/assets/colab-badge.svg\" alt=\"Open In Colab\"/></a>"
      ]
    },
    {
      "cell_type": "markdown",
      "metadata": {
        "id": "42z1SQqKFdtg"
      },
      "source": [
        "# Lab 3. Genetic Algorithms\n",
        "# Task 3.3 The Map Colouring Problem\n",
        "## Problem Descriptions\n",
        "The map coloring problem involves assigning colors to different regions of a map in such a way that no adjacent regions have the same color.\n",
        "\n",
        "Encoding scheme: we can use a list of 11 items, matching the number of names, and randomly give each a value from 0 to 3 for the four colors.\n",
        "\n",
        "Fitness Function: Evaluate each map's coloring quality, penalizing adjacent same-colored regions or excessive color use.\n",
        "\n",
        "Genetic operators:\n",
        "\n",
        "1. Selection: Those with higher fitness (i.e., better map colorings) have a higher chance of being chosen.\n",
        "\n",
        "2. Crossover: It involves swapping parts of two chromosomes - for map coloring, this means swapping color assignments between two regions.\n",
        "\n",
        "3. Mutation: Occasionally, the algorithm introduces random changes to the chromosomes. For instance, it randomly changes the color assigned to a region.\n",
        "## Implementation and Results"
      ]
    },
    {
      "cell_type": "code",
      "metadata": {
        "id": "BprDObXyHJBV",
        "colab": {
          "base_uri": "https://localhost:8080/"
        },
        "outputId": "95b91219-859d-4a0b-8229-ef83a1344b75"
      },
      "source": [
        "!pip install deap\n",
        "import array\n",
        "import random\n",
        "import numpy as np\n",
        "from deap import creator, base, tools, algorithms"
      ],
      "execution_count": null,
      "outputs": [
        {
          "output_type": "stream",
          "name": "stdout",
          "text": [
            "Collecting deap\n",
            "  Downloading deap-1.4.1-cp310-cp310-manylinux_2_5_x86_64.manylinux1_x86_64.manylinux_2_17_x86_64.manylinux2014_x86_64.whl (135 kB)\n",
            "\u001b[2K     \u001b[90m━━━━━━━━━━━━━━━━━━━━━━━━━━━━━━━━━━━━━━━━\u001b[0m \u001b[32m135.4/135.4 kB\u001b[0m \u001b[31m762.8 kB/s\u001b[0m eta \u001b[36m0:00:00\u001b[0m\n",
            "\u001b[?25hRequirement already satisfied: numpy in /usr/local/lib/python3.10/dist-packages (from deap) (1.23.5)\n",
            "Installing collected packages: deap\n",
            "Successfully installed deap-1.4.1\n"
          ]
        }
      ]
    },
    {
      "cell_type": "code",
      "metadata": {
        "id": "smxceTnEymf7"
      },
      "source": [
        "# Specify the variables\n",
        "numColour = 4\n",
        "numNames = 11\n",
        "colours = ('red', 'green', 'blue', 'gray')\n",
        "names = ('Mark', 'Julia', 'Steve', 'Amanda', 'Brian',\n",
        "         'Joanne', 'Derek', 'Allan', 'Michelle', 'Kelly', 'Chris')\n",
        "\n",
        "# Define the neighbours\n",
        "neighbours =  [ [0,1,1,0,0,0,0,0,0,0,0],\n",
        "                [0,0,1,1,1,0,1,0,0,0,0],\n",
        "                [0,0,0,1,0,0,0,1,1,0,0],\n",
        "                [0,0,0,0,0,1,1,0,1,0,0],\n",
        "                [0,0,0,0,0,0,1,0,0,1,0],\n",
        "                [0,0,0,0,0,0,1,0,1,1,1],\n",
        "                [0,0,0,0,0,0,0,0,0,1,1],\n",
        "                [0,0,0,0,0,0,0,0,1,0,0],\n",
        "                [0,0,0,0,0,0,0,0,0,0,0],\n",
        "                [0,0,0,0,0,0,0,0,0,0,1],\n",
        "                [0,0,0,0,0,0,0,0,0,0,0]]\n"
      ],
      "execution_count": null,
      "outputs": []
    },
    {
      "cell_type": "code",
      "metadata": {
        "id": "FGcjQHrUHWyu"
      },
      "source": [
        "def evalMapColouring(ind):\n",
        "    val = 0\n",
        "    for i in range(0, numNames):\n",
        "      for j in range(0, numNames):\n",
        "        if (neighbours[i][j] == 1) and (ind[i] == ind[j]):\n",
        "            val += 1\n",
        "    return val,\n",
        "\n",
        "creator.create(\"FitnessMin\", base.Fitness, weights=(-1.0,))\n",
        "creator.create(\"Individual\", array.array, typecode='i', fitness=creator.FitnessMin)\n",
        "\n",
        "toolbox = base.Toolbox()\n",
        "toolbox.register(\"attr_colour\", random.randint, 0, numColour-1)\n",
        "toolbox.register(\"individual\", tools.initRepeat, creator.Individual, toolbox.attr_colour, numNames)\n",
        "toolbox.register(\"population\", tools.initRepeat, list, toolbox.individual)\n",
        "\n",
        "toolbox.register(\"evaluate\", evalMapColouring)\n",
        "toolbox.register(\"mate\", tools.cxTwoPoint)\n",
        "toolbox.register(\"mutate\", tools.mutUniformInt, low=0, up=numColour-1, indpb=0.05)\n",
        "toolbox.register(\"select\", tools.selTournament, tournsize=3)\n"
      ],
      "execution_count": null,
      "outputs": []
    },
    {
      "cell_type": "code",
      "metadata": {
        "id": "fDdDaVawHrC4",
        "colab": {
          "base_uri": "https://localhost:8080/"
        },
        "outputId": "0985e7d2-c056-460a-a5ff-1dcc85860f73"
      },
      "source": [
        "pop = toolbox.population(n=10)\n",
        "stats = tools.Statistics(lambda ind: ind.fitness.values)\n",
        "stats.register(\"min\", np.min)\n",
        "pop, log = algorithms.eaSimple(pop, toolbox, cxpb=0.8, mutpb=0.4, ngen=100,\n",
        "                              stats=stats, verbose=True)\n",
        "\n",
        "best = tools.selBest(pop, 1)[0]\n",
        "print(\"Best: %s. Fitness: %s.\" %(best.tolist(), evalMapColouring(best)[0]))\n",
        "for i in range(numNames):\n",
        "  print(\"%s ==> %s\" %(names[i], colours[best[i]]))"
      ],
      "execution_count": null,
      "outputs": [
        {
          "output_type": "stream",
          "name": "stdout",
          "text": [
            "gen\tnevals\tmin\n",
            "0  \t10    \t3  \n",
            "1  \t9     \t1  \n",
            "2  \t10    \t1  \n",
            "3  \t9     \t1  \n",
            "4  \t10    \t1  \n",
            "5  \t10    \t1  \n",
            "6  \t10    \t1  \n",
            "7  \t8     \t1  \n",
            "8  \t10    \t1  \n",
            "9  \t9     \t1  \n",
            "10 \t9     \t1  \n",
            "11 \t8     \t1  \n",
            "12 \t10    \t1  \n",
            "13 \t9     \t1  \n",
            "14 \t8     \t1  \n",
            "15 \t10    \t1  \n",
            "16 \t8     \t1  \n",
            "17 \t8     \t1  \n",
            "18 \t10    \t1  \n",
            "19 \t4     \t1  \n",
            "20 \t8     \t1  \n",
            "21 \t5     \t1  \n",
            "22 \t10    \t1  \n",
            "23 \t10    \t1  \n",
            "24 \t9     \t1  \n",
            "25 \t8     \t1  \n",
            "26 \t10    \t1  \n",
            "27 \t8     \t1  \n",
            "28 \t10    \t1  \n",
            "29 \t10    \t1  \n",
            "30 \t8     \t1  \n",
            "31 \t10    \t1  \n",
            "32 \t10    \t1  \n",
            "33 \t10    \t1  \n",
            "34 \t8     \t1  \n",
            "35 \t10    \t1  \n",
            "36 \t10    \t1  \n",
            "37 \t10    \t1  \n",
            "38 \t9     \t1  \n",
            "39 \t10    \t1  \n",
            "40 \t10    \t1  \n",
            "41 \t10    \t1  \n",
            "42 \t8     \t1  \n",
            "43 \t8     \t1  \n",
            "44 \t8     \t1  \n",
            "45 \t8     \t1  \n",
            "46 \t10    \t1  \n",
            "47 \t7     \t1  \n",
            "48 \t7     \t1  \n",
            "49 \t9     \t0  \n",
            "50 \t8     \t0  \n",
            "51 \t9     \t0  \n",
            "52 \t10    \t0  \n",
            "53 \t10    \t0  \n",
            "54 \t8     \t0  \n",
            "55 \t10    \t0  \n",
            "56 \t7     \t0  \n",
            "57 \t8     \t0  \n",
            "58 \t10    \t0  \n",
            "59 \t10    \t0  \n",
            "60 \t7     \t0  \n",
            "61 \t10    \t0  \n",
            "62 \t8     \t0  \n",
            "63 \t8     \t0  \n",
            "64 \t10    \t0  \n",
            "65 \t10    \t0  \n",
            "66 \t8     \t0  \n",
            "67 \t8     \t0  \n",
            "68 \t8     \t0  \n",
            "69 \t9     \t0  \n",
            "70 \t8     \t0  \n",
            "71 \t10    \t0  \n",
            "72 \t10    \t0  \n",
            "73 \t9     \t0  \n",
            "74 \t10    \t0  \n",
            "75 \t6     \t0  \n",
            "76 \t8     \t0  \n",
            "77 \t10    \t0  \n",
            "78 \t10    \t0  \n",
            "79 \t7     \t0  \n",
            "80 \t10    \t0  \n",
            "81 \t9     \t0  \n",
            "82 \t9     \t0  \n",
            "83 \t8     \t0  \n",
            "84 \t5     \t0  \n",
            "85 \t8     \t0  \n",
            "86 \t9     \t0  \n",
            "87 \t8     \t0  \n",
            "88 \t9     \t0  \n",
            "89 \t7     \t0  \n",
            "90 \t10    \t0  \n",
            "91 \t8     \t0  \n",
            "92 \t5     \t0  \n",
            "93 \t9     \t0  \n",
            "94 \t8     \t0  \n",
            "95 \t9     \t0  \n",
            "96 \t10    \t0  \n",
            "97 \t10    \t0  \n",
            "98 \t8     \t0  \n",
            "99 \t8     \t0  \n",
            "100\t8     \t0  \n",
            "Best: [2, 0, 1, 3, 2, 0, 1, 0, 2, 3, 2]. Fitness: 0.\n",
            "Mark ==> blue\n",
            "Julia ==> red\n",
            "Steve ==> green\n",
            "Amanda ==> gray\n",
            "Brian ==> blue\n",
            "Joanne ==> red\n",
            "Derek ==> green\n",
            "Allan ==> red\n",
            "Michelle ==> blue\n",
            "Kelly ==> gray\n",
            "Chris ==> blue\n"
          ]
        }
      ]
    },
    {
      "cell_type": "markdown",
      "metadata": {
        "id": "q8XVMr4NFy8v"
      },
      "source": [
        "## Discussions\n",
        "\n",
        "In this task, we applied a Genetic Algorithm (GA) to solve a map coloring problem.\n",
        "\n",
        "The optimal solution found by the algorithm is represented as follows:\n",
        "\n",
        "Best Solution: [2, 0, 1, 3, 2, 0, 1, 0, 2, 3, 2]. Fitness Score: 0.\n",
        "\n",
        "This solution corresponds to the following color assignments for each region:\n",
        "\n",
        "\n",
        "Mark is assigned the color blue.\n",
        "\n",
        "Julia is assigned the color red.\n",
        "\n",
        "Steve is assigned the color green.\n",
        "\n",
        "Amanda is assigned the color gray.\n",
        "\n",
        "Brian is assigned the color blue.\n",
        "\n",
        "Joanne is assigned the color red.\n",
        "\n",
        "Derek is assigned the color green.\n",
        "\n",
        "Allan is assigned the color red.\n",
        "\n",
        "Michelle is assigned the color blue.\n",
        "\n",
        "Kelly is assigned the color gray.\n",
        "\n",
        "Chris is assigned the color blue.\n",
        "\n",
        "The fitness score of 0 indicates an optimal solution where all the constraints of the problem are satisfied. This implies that the color assignments are made in such a way that no conflicting criteria are present, based on the rules or conditions defined in the problem.\n",
        "\n"
      ]
    }
  ]
}