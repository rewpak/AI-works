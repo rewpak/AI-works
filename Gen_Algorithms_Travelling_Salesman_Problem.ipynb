{
  "nbformat": 4,
  "nbformat_minor": 0,
  "metadata": {
    "colab": {
      "provenance": [],
      "include_colab_link": true
    },
    "kernelspec": {
      "name": "python3",
      "display_name": "Python 3"
    }
  },
  "cells": [
    {
      "cell_type": "markdown",
      "metadata": {
        "id": "view-in-github",
        "colab_type": "text"
      },
      "source": [
        "<a href=\"https://colab.research.google.com/github/rewpak/AI-works/blob/main/Gen_Algorithms_Travelling_Salesman_Problem.ipynb\" target=\"_parent\"><img src=\"https://colab.research.google.com/assets/colab-badge.svg\" alt=\"Open In Colab\"/></a>"
      ]
    },
    {
      "cell_type": "markdown",
      "metadata": {
        "id": "42z1SQqKFdtg"
      },
      "source": [
        "# Lab 3. Genetic Algorithms\n",
        "# Task 3.1 The Travelling Salesman Problem\n",
        "## Problem Descriptions\n",
        "In this task, we are presented with the Traveling Salesman Problem (TSP). The objective of the TSP is to determine the shortest possible route that a salesman can take to visit 17 cities and return to the starting city, covering each city exactly once.\n",
        "\n",
        "Using GA, firstly we need to determine the encoding scheme, evaluation of fitness, and the genetic operators:\n",
        "\n",
        "1. Encoding scheme: Create every possible order of the 17 numbers that stand for the cities.\n",
        "\n",
        "symbolic encoding:\n",
        "\n",
        "(1) 1 4 3 2 7 5 6 11 8 10 9 12 15 13 14 17 16\n",
        "\n",
        "(2) 3 4 7 8 17 ... and etc\n",
        "2. Fitness function: the sum of distances of all neighboring cities in a string, including the distance between starting and end cities.\n",
        "\n",
        "3. Genetic operators:\n",
        "    * Selection: tournament selection, a random subset of individuals is selected from the population\n",
        "    * Crossover: choose a crossover point randomly, the sub-strings before this point are copied from one parent, and the remaining part is filled in following the order in the second parent.\n",
        "    * Mutation: two random positions are chosen, and the values at those positions are swapped.\n",
        "\n",
        "## Implementation and Results"
      ]
    },
    {
      "cell_type": "code",
      "metadata": {
        "id": "WqEKkFWlzz9s"
      },
      "source": [
        "TourSize = 17\n",
        "OptTour = [0, 15, 11, 8, 4, 1, 9, 10, 2, 14, 13, 16, 5, 7, 6, 12, 3],\n",
        "OptDistance = 2085\n",
        "distance_map = \\\n",
        "    [[0, 633, 257, 91, 412, 150, 80, 134, 259, 505, 353, 324, 70, 211, 268, 246, 121],\n",
        "    [633, 0, 390, 661, 227, 488, 572, 530, 555, 289, 282, 638, 567, 466, 420, 745, 518],\n",
        "    [257, 390, 0, 228, 169, 112, 196, 154, 372, 262, 110, 437, 191, 74, 53, 472, 142],\n",
        "    [91, 661, 228, 0, 383, 120, 77, 105, 175, 476, 324, 240, 27, 182, 239, 237, 84],\n",
        "    [412, 227, 169, 383, 0, 267, 351, 309, 338, 196, 61, 421, 346, 243, 199, 528, 297],\n",
        "    [150, 488, 112, 120, 267, 0, 63, 34, 264, 360, 208, 329, 83, 105, 123, 364, 35],\n",
        "    [80, 572, 196, 77, 351, 63, 0, 29, 232, 444, 292, 297, 47, 150, 207, 332, 29],\n",
        "    [134, 530, 154, 105, 309, 34, 29, 0, 249, 402, 250, 314, 68, 108, 165, 349, 36],\n",
        "    [259, 555, 372, 175, 338, 264, 232, 249, 0, 495, 352, 95, 189, 326, 383, 202, 236],\n",
        "    [505, 289, 262, 476, 196, 360, 444, 402, 495, 0, 154, 578, 439, 336, 240, 685, 390],\n",
        "    [353, 282, 110, 324, 61, 208, 292, 250, 352, 154, 0, 435, 287, 184, 140, 542, 238],\n",
        "    [324, 638, 437, 240, 421, 329, 297, 314, 95, 578, 435, 0, 254, 391, 448, 157, 301],\n",
        "    [70, 567, 191, 27, 346, 83, 47, 68, 189, 439, 287, 254, 0, 145, 202, 289, 55],\n",
        "    [211, 466, 74, 182, 243, 105, 150, 108, 326, 336, 184, 391, 145, 0, 57, 426, 96],\n",
        "    [268, 420, 53, 239, 199, 123, 207, 165, 383, 240, 140, 448, 202, 57, 0, 483, 153],\n",
        "    [246, 745, 472, 237, 528, 364, 332, 349, 202, 685, 542, 157, 289, 426, 483, 0, 336],\n",
        "    [121, 518, 142, 84, 297, 35, 29, 36, 236, 390, 238, 301, 55, 96, 153, 336, 0]]"
      ],
      "execution_count": null,
      "outputs": []
    },
    {
      "cell_type": "code",
      "metadata": {
        "id": "KaJily9n5gv-",
        "colab": {
          "base_uri": "https://localhost:8080/"
        },
        "outputId": "64e9808c-909f-4efb-b532-a69e7a2d8dd5"
      },
      "source": [
        "!pip install deap\n",
        "import array\n",
        "import random\n",
        "import numpy as np\n",
        "from deap import algorithms, base, creator, tools"
      ],
      "execution_count": null,
      "outputs": [
        {
          "output_type": "stream",
          "name": "stdout",
          "text": [
            "Collecting deap\n",
            "  Downloading deap-1.4.1-cp310-cp310-manylinux_2_5_x86_64.manylinux1_x86_64.manylinux_2_17_x86_64.manylinux2014_x86_64.whl (135 kB)\n",
            "\u001b[2K     \u001b[90m━━━━━━━━━━━━━━━━━━━━━━━━━━━━━━━━━━━━━━━━\u001b[0m \u001b[32m135.4/135.4 kB\u001b[0m \u001b[31m2.5 MB/s\u001b[0m eta \u001b[36m0:00:00\u001b[0m\n",
            "\u001b[?25hRequirement already satisfied: numpy in /usr/local/lib/python3.10/dist-packages (from deap) (1.23.5)\n",
            "Installing collected packages: deap\n",
            "Successfully installed deap-1.4.1\n"
          ]
        }
      ]
    },
    {
      "cell_type": "code",
      "metadata": {
        "id": "tYUzraWx5jWr"
      },
      "source": [
        "# fitness function as the sum of all the distances between each consecutive cities in individual\n",
        "def evalTSP(individual):\n",
        "    distance = distance_map[individual[-1]][individual[0]]\n",
        "    for gene1, gene2 in zip(individual[0:-1], individual[1:]):\n",
        "        distance += distance_map[gene1][gene2]\n",
        "    return distance,\n",
        "\n",
        "# create creator.FitnessMin and creator.Individual to be used in the toolbox\n",
        "creator.create(\"FitnessMin\", base.Fitness, weights=(-1.0,))\n",
        "creator.create(\"Individual\", array.array, typecode='i', fitness=creator.FitnessMin)\n",
        "\n",
        "# create the toolbox from the base\n",
        "toolbox = base.Toolbox()\n",
        "\n",
        "# add attribute generator to the toolbox\n",
        "toolbox.register(\"indices\", random.sample, range(TourSize), TourSize)\n",
        "\n",
        "# initializers for individuals and population\n",
        "toolbox.register(\"individual\", tools.initIterate, creator.Individual, toolbox.indices)\n",
        "toolbox.register(\"population\", tools.initRepeat, list, toolbox.individual)\n",
        "\n",
        "# genetic operators and fitness function\n",
        "toolbox.register(\"mate\", tools.cxPartialyMatched)\n",
        "toolbox.register(\"mutate\", tools.mutShuffleIndexes, indpb=0.05)\n",
        "# toolbox.register(\"select\", tools.selRoulette)\n",
        "toolbox.register(\"select\", tools.selTournament, tournsize=3)\n",
        "toolbox.register(\"evaluate\", evalTSP)\n"
      ],
      "execution_count": null,
      "outputs": []
    },
    {
      "cell_type": "code",
      "metadata": {
        "id": "rC6MaJ5F0WFx",
        "colab": {
          "base_uri": "https://localhost:8080/"
        },
        "outputId": "2c7db4e0-ae7e-4644-e8df-df81519adcc3"
      },
      "source": [
        "random.seed(16)\n",
        "pop = toolbox.population(n=500)\n",
        "stats = tools.Statistics(lambda ind: ind.fitness.values)\n",
        "stats.register(\"min\", np.min)\n",
        "algorithms.eaSimple(pop, toolbox, 0.7, 0.2, ngen=50, stats=stats)\n",
        "# algorithms.eaSimple(pop, toolbox, 0.7, 0.2, ngen=50, stats=stats, verbose=False)\n",
        "\n",
        "best = tools.selBest(pop, 1)[0]\n",
        "print(\"Best: %s\\nTotal Distance: %s\" %(best.tolist(), best.fitness.values))\n"
      ],
      "execution_count": null,
      "outputs": [
        {
          "output_type": "stream",
          "name": "stdout",
          "text": [
            "gen\tnevals\tmin \n",
            "0  \t500   \t3369\n",
            "1  \t395   \t3307\n",
            "2  \t384   \t3261\n",
            "3  \t386   \t3269\n",
            "4  \t402   \t2938\n",
            "5  \t371   \t2938\n",
            "6  \t372   \t2697\n",
            "7  \t361   \t2671\n",
            "8  \t388   \t2671\n",
            "9  \t377   \t2671\n",
            "10 \t391   \t2487\n",
            "11 \t348   \t2487\n",
            "12 \t379   \t2487\n",
            "13 \t386   \t2521\n",
            "14 \t357   \t2521\n",
            "15 \t366   \t2481\n",
            "16 \t358   \t2481\n",
            "17 \t390   \t2336\n",
            "18 \t376   \t2457\n",
            "19 \t402   \t2373\n",
            "20 \t366   \t2373\n",
            "21 \t360   \t2373\n",
            "22 \t375   \t2278\n",
            "23 \t388   \t2278\n",
            "24 \t385   \t2199\n",
            "25 \t396   \t2176\n",
            "26 \t367   \t2176\n",
            "27 \t382   \t2142\n",
            "28 \t368   \t2175\n",
            "29 \t367   \t2128\n",
            "30 \t366   \t2115\n",
            "31 \t376   \t2115\n",
            "32 \t389   \t2088\n",
            "33 \t374   \t2088\n",
            "34 \t381   \t2088\n",
            "35 \t380   \t2085\n",
            "36 \t377   \t2085\n",
            "37 \t383   \t2085\n",
            "38 \t380   \t2085\n",
            "39 \t418   \t2085\n",
            "40 \t380   \t2085\n",
            "41 \t367   \t2085\n",
            "42 \t352   \t2085\n",
            "43 \t364   \t2085\n",
            "44 \t388   \t2085\n",
            "45 \t373   \t2085\n",
            "46 \t393   \t2085\n",
            "47 \t388   \t2085\n",
            "48 \t377   \t2085\n",
            "49 \t375   \t2085\n",
            "50 \t379   \t2085\n",
            "Best: [1, 9, 10, 2, 14, 13, 16, 5, 7, 6, 12, 3, 0, 15, 11, 8, 4]\n",
            "Total Distance: (2085.0,)\n"
          ]
        }
      ]
    },
    {
      "cell_type": "markdown",
      "metadata": {
        "id": "q8XVMr4NFy8v"
      },
      "source": [
        "## Discussions\n",
        "\n",
        "The best solution found for the Traveling Salesman Problem (TSP) is represented by the sequence [1, 9, 10, 2, 14, 13, 16, 5, 7, 6, 12, 3, 0, 15, 11, 8, 4]. This means that the salesman starts at city 1, then goes to city 9, followed by city 10, and so on, until reaching city 4. The total distance covered in this route is 2085. This solution is one of the most efficient routes discovered for this particular instance of the TSP.\n",
        "\n",
        "Comparing  with the provided result OptTour = [0, 15, 11, 8, 4, 1, 9, 10, 2, 14, 13, 16, 5, 7, 6, 12, 3], OptDistance = 2085. It is obvious that gained results is correct because have the same total distance. The routes are different this is because there can be multiple ways to arrange the cities while maintaining the same total distance."
      ]
    }
  ]
}